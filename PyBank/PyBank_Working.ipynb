{
 "cells": [
  {
   "cell_type": "code",
   "execution_count": 1,
   "metadata": {},
   "outputs": [
    {
     "data": {
      "text/plain": [
       "'C:\\\\Users\\\\vinay\\\\Documents\\\\FINTECH_GITHUB_HW\\\\python-homework\\\\PyBank'"
      ]
     },
     "execution_count": 1,
     "metadata": {},
     "output_type": "execute_result"
    }
   ],
   "source": [
    "pwd"
   ]
  },
  {
   "cell_type": "code",
   "execution_count": 40,
   "metadata": {},
   "outputs": [
    {
     "name": "stdout",
     "output_type": "stream",
     "text": [
      "Financial Analysis\n",
      "----------------------------\n",
      "Total Months: 86\n",
      "Total: $38382578\n",
      "Average Change: $-2315.12\n",
      "Greatest Increase in Profits: Feb-2012 ($1926159)\n",
      "Greatest Decrease in Profits: Sep-2013 ($-2196167)\n"
     ]
    }
   ],
   "source": [
    "# -*- coding: utf-8 -*-\n",
    "\"\"\"PyBank Homework.\n",
    "\n",
    "This script will use the Pathlib library to set the file path,\n",
    "use the csv library to read in the file, and iterate over each\n",
    "row of the file to analyze profit trends for a bank.\n",
    "\"\"\"\n",
    "\n",
    "# Import the pathlib and csv library\n",
    "from pathlib import Path\n",
    "import csv\n",
    "\n",
    "# Set the file path\n",
    "csvpath = Path(\"./Resources/budget_data.csv\")\n",
    "\n",
    "# Initialize lists\n",
    "months = []\n",
    "profits = []\n",
    "\n",
    "# Open the csv file as an object\n",
    "with open(csvpath, \"r\") as csvfile:\n",
    "\n",
    "    # Pass in the csv file to the csv.reader() function\n",
    "    # (with ',' as the delmiter/separator) and return the csvreader object\n",
    "    csvreader = csv.reader(csvfile, delimiter=\",\")\n",
    "\n",
    "    # Read the header row first (skip this step if there is no header)\n",
    "    csv_header = next(csvreader)\n",
    "    # Read each row of data after the header\n",
    "    for row in csvreader:\n",
    "    # Read months and profits as seperate lists    \n",
    "        months.append(row[0])\n",
    "        profits.append(float(row[1]))\n",
    "\n",
    "# Initialize variables for analysis        \n",
    "counter = 1\n",
    "greatest_inc_index = 1\n",
    "greatest_dec_index  = 1\n",
    "greatest_increase = 0.0\n",
    "greatest_decrease = 0.0\n",
    "change_in_profit = 0.0\n",
    "total_change_in_profits = 0.0\n",
    "\n",
    "# Iterate on profits list starting at index 1 to calculate change from previous month\n",
    "# Perform a check to verify the greatest increase and decrease and record the respective index\n",
    "while counter < (len(profits)):\n",
    "    \n",
    "    change_in_profit = (profits[counter] - profits[counter - 1])\n",
    "    total_change_in_profits += change_in_profit\n",
    "    \n",
    "    if  change_in_profit > greatest_increase:\n",
    "        greatest_increase = change_in_profit\n",
    "        greatest_inc_index = counter\n",
    "    elif change_in_profit < greatest_decrease:\n",
    "        greatest_decrease = change_in_profit\n",
    "        greatest_dec_index = counter\n",
    "    \n",
    "    counter +=1\n",
    "\n",
    "# Print analysis to the console    \n",
    "print(\"Financial Analysis\")\n",
    "print(\"----------------------------\")\n",
    "print(f\"Total Months: {counter}\")\n",
    "print(f\"Total: ${int(sum(profits))}\")\n",
    "print(f\"Average Change: ${round(total_change_in_profits/(counter - 1),2)}\")\n",
    "print(f\"Greatest Increase in Profits: {months[greatest_inc_index]} (${round(greatest_increase)})\")\n",
    "print(f\"Greatest Decrease in Profits: {months[greatest_dec_index]} (${round(greatest_decrease)})\")\n"
   ]
  },
  {
   "cell_type": "code",
   "execution_count": null,
   "metadata": {},
   "outputs": [],
   "source": []
  },
  {
   "cell_type": "code",
   "execution_count": null,
   "metadata": {},
   "outputs": [],
   "source": []
  },
  {
   "cell_type": "code",
   "execution_count": null,
   "metadata": {},
   "outputs": [],
   "source": []
  }
 ],
 "metadata": {
  "kernelspec": {
   "display_name": "Python 3",
   "language": "python",
   "name": "python3"
  },
  "language_info": {
   "codemirror_mode": {
    "name": "ipython",
    "version": 3
   },
   "file_extension": ".py",
   "mimetype": "text/x-python",
   "name": "python",
   "nbconvert_exporter": "python",
   "pygments_lexer": "ipython3",
   "version": "3.7.3"
  }
 },
 "nbformat": 4,
 "nbformat_minor": 4
}
